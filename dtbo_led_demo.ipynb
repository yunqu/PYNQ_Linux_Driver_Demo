{
 "cells": [
  {
   "cell_type": "markdown",
   "metadata": {},
   "source": [
    "# Demo: Using a Device Tree Overlay with the LED's"
   ]
  },
  {
   "cell_type": "code",
   "execution_count": 1,
   "metadata": {},
   "outputs": [
    {
     "data": {
      "application/javascript": [
       "\n",
       "require(['notebook/js/codecell'], function(codecell) {\n",
       "  codecell.CodeCell.options_default.highlight_modes[\n",
       "      'magic_text/x-csrc'] = {'reg':[/^%%microblaze/]};\n",
       "  Jupyter.notebook.events.one('kernel_ready.Kernel', function(){\n",
       "      Jupyter.notebook.get_cells().map(function(cell){\n",
       "          if (cell.cell_type == 'code'){ cell.auto_highlight(); } }) ;\n",
       "  });\n",
       "});\n"
      ]
     },
     "metadata": {},
     "output_type": "display_data"
    }
   ],
   "source": [
    "from pynq import Overlay\n",
    "\n",
    "# Load bitstream\n",
    "overlay = Overlay(\"base.bit\")"
   ]
  },
  {
   "cell_type": "code",
   "execution_count": 2,
   "metadata": {},
   "outputs": [],
   "source": [
    "# download the device tree overlay\n",
    "overlay.insert_device_tree('gpio_leds.dtbo')"
   ]
  },
  {
   "cell_type": "code",
   "execution_count": 3,
   "metadata": {},
   "outputs": [],
   "source": [
    "from pynq import GPIO\n",
    "from time import sleep\n",
    "\n",
    "# initialize the leds using pynq's wrapper around the gpio sysfs interface\n",
    "led0 = GPIO(902, 'out')\n",
    "led1 = GPIO(903, 'out')\n",
    "led2 = GPIO(904, 'out')\n",
    "led3 = GPIO(905, 'out')\n",
    "\n",
    "# blink all the led's three times\n",
    "for i in range(3):\n",
    "    \n",
    "    # turn the led's on\n",
    "    led0.write(1)\n",
    "    led1.write(1)\n",
    "    led2.write(1)\n",
    "    led3.write(1)\n",
    "    sleep(.5)\n",
    "    \n",
    "    # turn the led's off\n",
    "    led0.write(0)\n",
    "    led1.write(0)\n",
    "    led2.write(0)\n",
    "    led3.write(0)\n",
    "    sleep(.5)"
   ]
  },
  {
   "cell_type": "code",
   "execution_count": 4,
   "metadata": {},
   "outputs": [],
   "source": [
    "# remove the device tree overlay\n",
    "overlay.remove_device_tree('gpio_leds.dtbo')"
   ]
  }
 ],
 "metadata": {
  "kernelspec": {
   "display_name": "Python 3",
   "language": "python",
   "name": "python3"
  },
  "language_info": {
   "codemirror_mode": {
    "name": "ipython",
    "version": 3
   },
   "file_extension": ".py",
   "mimetype": "text/x-python",
   "name": "python",
   "nbconvert_exporter": "python",
   "pygments_lexer": "ipython3",
   "version": "3.6.5"
  }
 },
 "nbformat": 4,
 "nbformat_minor": 2
}
